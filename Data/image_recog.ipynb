{
 "cells": [
  {
   "cell_type": "code",
   "execution_count": 3,
   "id": "94636c21",
   "metadata": {},
   "outputs": [
    {
     "data": {
      "text/plain": [
       "array([247, 240, 197, 255], dtype=uint8)"
      ]
     },
     "execution_count": 3,
     "metadata": {},
     "output_type": "execute_result"
    }
   ],
   "source": [
    "from PIL import Image\n",
    "import numpy as np\n",
    "\n",
    "# Load the image\n",
    "img = Image.open(\"C:/Users/robuc/Desktop/buildings_new.png\")\n",
    "\n",
    "# Convert image to numpy array\n",
    "img_array = np.array(img)\n",
    "\n",
    "# Since it's a solid color, we can just take the color of the first pixel\n",
    "rgb_color = img_array[0, 0]\n",
    "\n",
    "rgb_color\n",
    "#248, 241, 204, 255  buildings # 10 tol\n",
    "#205, 199, 190, 255 roads  # 4 tol"
   ]
  },
  {
   "cell_type": "code",
   "execution_count": 17,
   "id": "e91c3679",
   "metadata": {},
   "outputs": [],
   "source": [
    "from PIL import Image\n",
    "import numpy as np\n",
    "\n",
    "map_img = Image.open(\"C:/Users/robuc/Desktop/Tiger_Main.jpg\")\n",
    "map_img_array = np.array(map_img)\n",
    "mask = np.all(np.abs(map_img_array[:, :, :3] - [205, 199, 190]) <= 5, axis=-1) #roads\n",
    "#mask = np.all(np.abs(map_img_array[:, :, :3] - [247, 240, 197]) <= 10, axis=-1) #buildings\n",
    "black_white_map_img = np.zeros_like(map_img_array[:, :, :3]) \n",
    "black_white_map_img[mask] = 255\n",
    "black_white_map_img = Image.fromarray(black_white_map_img)\n",
    "black_white_map_img_path = \"C:/Users/robuc/Desktop/roads_new_map.png\"\n",
    "black_white_map_img.save(black_white_map_img_path)"
   ]
  }
 ],
 "metadata": {
  "kernelspec": {
   "display_name": "Python 3 (ipykernel)",
   "language": "python",
   "name": "python3"
  },
  "language_info": {
   "codemirror_mode": {
    "name": "ipython",
    "version": 3
   },
   "file_extension": ".py",
   "mimetype": "text/x-python",
   "name": "python",
   "nbconvert_exporter": "python",
   "pygments_lexer": "ipython3",
   "version": "3.10.11"
  }
 },
 "nbformat": 4,
 "nbformat_minor": 5
}
